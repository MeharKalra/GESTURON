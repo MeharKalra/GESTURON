{
  "nbformat": 4,
  "nbformat_minor": 0,
  "metadata": {
    "colab": {
      "provenance": [],
      "mount_file_id": "1aI8KGMJ9znxwY1jsa8XOTHSoMeJF5nzi",
      "authorship_tag": "ABX9TyNspCERdXn90r3LqAyY/D8w",
      "include_colab_link": true
    },
    "kernelspec": {
      "name": "python3",
      "display_name": "Python 3"
    },
    "language_info": {
      "name": "python"
    }
  },
  "cells": [
    {
      "cell_type": "markdown",
      "metadata": {
        "id": "view-in-github",
        "colab_type": "text"
      },
      "source": [
        "<a href=\"https://colab.research.google.com/github/MeharKalra/GESTURON/blob/main/Gesturon_data.ipynb\" target=\"_parent\"><img src=\"https://colab.research.google.com/assets/colab-badge.svg\" alt=\"Open In Colab\"/></a>"
      ]
    },
    {
      "cell_type": "code",
      "execution_count": null,
      "metadata": {
        "colab": {
          "base_uri": "https://localhost:8080/"
        },
        "id": "jbe_HhlExUaY",
        "outputId": "7642768b-d4b4-441b-c4a2-7489249b09bc"
      },
      "outputs": [
        {
          "output_type": "stream",
          "name": "stdout",
          "text": [
            "Requirement already satisfied: kagglehub in /usr/local/lib/python3.10/dist-packages (0.3.4)\n",
            "Requirement already satisfied: packaging in /usr/local/lib/python3.10/dist-packages (from kagglehub) (24.2)\n",
            "Requirement already satisfied: requests in /usr/local/lib/python3.10/dist-packages (from kagglehub) (2.32.3)\n",
            "Requirement already satisfied: tqdm in /usr/local/lib/python3.10/dist-packages (from kagglehub) (4.66.6)\n",
            "Requirement already satisfied: charset-normalizer<4,>=2 in /usr/local/lib/python3.10/dist-packages (from requests->kagglehub) (3.4.0)\n",
            "Requirement already satisfied: idna<4,>=2.5 in /usr/local/lib/python3.10/dist-packages (from requests->kagglehub) (3.10)\n",
            "Requirement already satisfied: urllib3<3,>=1.21.1 in /usr/local/lib/python3.10/dist-packages (from requests->kagglehub) (2.2.3)\n",
            "Requirement already satisfied: certifi>=2017.4.17 in /usr/local/lib/python3.10/dist-packages (from requests->kagglehub) (2024.8.30)\n",
            "Collecting mediapipe\n",
            "  Downloading mediapipe-0.10.20-cp310-cp310-manylinux_2_28_x86_64.whl.metadata (9.7 kB)\n",
            "Requirement already satisfied: absl-py in /usr/local/lib/python3.10/dist-packages (from mediapipe) (1.4.0)\n",
            "Requirement already satisfied: attrs>=19.1.0 in /usr/local/lib/python3.10/dist-packages (from mediapipe) (24.2.0)\n",
            "Requirement already satisfied: flatbuffers>=2.0 in /usr/local/lib/python3.10/dist-packages (from mediapipe) (24.3.25)\n",
            "Requirement already satisfied: jax in /usr/local/lib/python3.10/dist-packages (from mediapipe) (0.4.33)\n",
            "Requirement already satisfied: jaxlib in /usr/local/lib/python3.10/dist-packages (from mediapipe) (0.4.33)\n",
            "Requirement already satisfied: matplotlib in /usr/local/lib/python3.10/dist-packages (from mediapipe) (3.8.0)\n",
            "Requirement already satisfied: numpy<2 in /usr/local/lib/python3.10/dist-packages (from mediapipe) (1.26.4)\n",
            "Requirement already satisfied: opencv-contrib-python in /usr/local/lib/python3.10/dist-packages (from mediapipe) (4.10.0.84)\n",
            "Requirement already satisfied: protobuf<5,>=4.25.3 in /usr/local/lib/python3.10/dist-packages (from mediapipe) (4.25.5)\n",
            "Collecting sounddevice>=0.4.4 (from mediapipe)\n",
            "  Downloading sounddevice-0.5.1-py3-none-any.whl.metadata (1.4 kB)\n",
            "Requirement already satisfied: sentencepiece in /usr/local/lib/python3.10/dist-packages (from mediapipe) (0.2.0)\n",
            "Requirement already satisfied: CFFI>=1.0 in /usr/local/lib/python3.10/dist-packages (from sounddevice>=0.4.4->mediapipe) (1.17.1)\n",
            "Requirement already satisfied: ml-dtypes>=0.2.0 in /usr/local/lib/python3.10/dist-packages (from jax->mediapipe) (0.4.1)\n",
            "Requirement already satisfied: opt-einsum in /usr/local/lib/python3.10/dist-packages (from jax->mediapipe) (3.4.0)\n",
            "Requirement already satisfied: scipy>=1.10 in /usr/local/lib/python3.10/dist-packages (from jax->mediapipe) (1.13.1)\n",
            "Requirement already satisfied: contourpy>=1.0.1 in /usr/local/lib/python3.10/dist-packages (from matplotlib->mediapipe) (1.3.1)\n",
            "Requirement already satisfied: cycler>=0.10 in /usr/local/lib/python3.10/dist-packages (from matplotlib->mediapipe) (0.12.1)\n",
            "Requirement already satisfied: fonttools>=4.22.0 in /usr/local/lib/python3.10/dist-packages (from matplotlib->mediapipe) (4.55.3)\n",
            "Requirement already satisfied: kiwisolver>=1.0.1 in /usr/local/lib/python3.10/dist-packages (from matplotlib->mediapipe) (1.4.7)\n",
            "Requirement already satisfied: packaging>=20.0 in /usr/local/lib/python3.10/dist-packages (from matplotlib->mediapipe) (24.2)\n",
            "Requirement already satisfied: pillow>=6.2.0 in /usr/local/lib/python3.10/dist-packages (from matplotlib->mediapipe) (11.0.0)\n",
            "Requirement already satisfied: pyparsing>=2.3.1 in /usr/local/lib/python3.10/dist-packages (from matplotlib->mediapipe) (3.2.0)\n",
            "Requirement already satisfied: python-dateutil>=2.7 in /usr/local/lib/python3.10/dist-packages (from matplotlib->mediapipe) (2.8.2)\n",
            "Requirement already satisfied: pycparser in /usr/local/lib/python3.10/dist-packages (from CFFI>=1.0->sounddevice>=0.4.4->mediapipe) (2.22)\n",
            "Requirement already satisfied: six>=1.5 in /usr/local/lib/python3.10/dist-packages (from python-dateutil>=2.7->matplotlib->mediapipe) (1.17.0)\n",
            "Downloading mediapipe-0.10.20-cp310-cp310-manylinux_2_28_x86_64.whl (35.6 MB)\n",
            "\u001b[2K   \u001b[90m━━━━━━━━━━━━━━━━━━━━━━━━━━━━━━━━━━━━━━━━\u001b[0m \u001b[32m35.6/35.6 MB\u001b[0m \u001b[31m26.1 MB/s\u001b[0m eta \u001b[36m0:00:00\u001b[0m\n",
            "\u001b[?25hDownloading sounddevice-0.5.1-py3-none-any.whl (32 kB)\n",
            "Installing collected packages: sounddevice, mediapipe\n",
            "Successfully installed mediapipe-0.10.20 sounddevice-0.5.1\n"
          ]
        }
      ],
      "source": [
        "!pip install kagglehub\n",
        "!pip install mediapipe"
      ]
    },
    {
      "cell_type": "code",
      "source": [
        "import kagglehub"
      ],
      "metadata": {
        "id": "VQbb8CotxpA0"
      },
      "execution_count": null,
      "outputs": []
    },
    {
      "cell_type": "markdown",
      "source": [
        "### Downloding Dataset from kaggle"
      ],
      "metadata": {
        "id": "oezB8GKvyTtm"
      }
    },
    {
      "cell_type": "code",
      "source": [
        "path = kagglehub.dataset_download(\"soumicksarker/ipn-hand-dataset\")\n",
        "print(\"Path to dataset files:\", path)\n",
        "!cp -R /root/.cache/kagglehub/datasets/soumicksarker/ipn-hand-dataset/versions/7 /content"
      ],
      "metadata": {
        "colab": {
          "base_uri": "https://localhost:8080/"
        },
        "id": "oNQ42t4DyF11",
        "outputId": "3379a2c3-384b-43b4-8493-006430727159"
      },
      "execution_count": null,
      "outputs": [
        {
          "output_type": "stream",
          "name": "stdout",
          "text": [
            "Warning: Looks like you're using an outdated `kagglehub` version, please consider updating (latest version: 0.3.5)\n",
            "Downloading from https://www.kaggle.com/api/v1/datasets/download/soumicksarker/ipn-hand-dataset?dataset_version_number=7...\n"
          ]
        },
        {
          "output_type": "stream",
          "name": "stderr",
          "text": [
            "100%|██████████| 4.61G/4.61G [01:23<00:00, 59.4MB/s]"
          ]
        },
        {
          "output_type": "stream",
          "name": "stdout",
          "text": [
            "Extracting files...\n"
          ]
        },
        {
          "output_type": "stream",
          "name": "stderr",
          "text": [
            "\n"
          ]
        },
        {
          "output_type": "stream",
          "name": "stdout",
          "text": [
            "Path to dataset files: /root/.cache/kagglehub/datasets/soumicksarker/ipn-hand-dataset/versions/7\n"
          ]
        }
      ]
    },
    {
      "cell_type": "markdown",
      "source": [
        "### Importing required libraries"
      ],
      "metadata": {
        "id": "7BthLs9ezkCe"
      }
    },
    {
      "cell_type": "code",
      "source": [
        "import numpy as np\n",
        "import pandas as pd\n",
        "import cv2\n",
        "import matplotlib.pyplot as plt\n",
        "from scipy.interpolate import splprep, splev\n",
        "from scipy import stats as st\n",
        "import mediapipe as mp\n",
        "from sklearn.utils import resample\n",
        "import os\n",
        "from sklearn.decomposition import PCA\n",
        "from tqdm import tqdm"
      ],
      "metadata": {
        "id": "eGtsCxFY0bIk"
      },
      "execution_count": null,
      "outputs": []
    },
    {
      "cell_type": "markdown",
      "source": [
        "### The code is divided into following process\n",
        "    1. Extracting the information from dataset\n",
        "    2. Performing EDA on information\n",
        "    3. Extract the landmarks from the frame which will represent the temporal feature\n",
        "    4. Perform the landmark standardization\n",
        "    5. Preapre a feature spcae that represent the temporal variation of extracted landmarks\n",
        "    6. Use a classical ML method or small neural network to classify the gesture based on the variation in temporal features"
      ],
      "metadata": {
        "id": "O0HRfcEnK3uK"
      }
    },
    {
      "cell_type": "markdown",
      "source": [
        "## Extracting the information from dataset and perfroming EDA"
      ],
      "metadata": {
        "id": "mwIzS0sOLPsd"
      }
    },
    {
      "cell_type": "code",
      "source": [
        "# Intializing all the possible paths\n",
        "train_csv_path = \"/gesture_frames_Train.csv\"\n",
        "test_csv_path = \"/gesture_frames_Test.csv\"\n",
        "metadat_path = \"/content/7/annotations/annotations/metadata.xlsx\"\n",
        "class_details_path = \"/content/7/annotations/annotations/class_details.txt\"\n",
        "train_annotations_path = \"/content/7/annotations/annotations/class_details.txt\"\n",
        "test_annotations_path = \"/content/7/annotations/annotations/Annot_TestList.txt\"\n"
      ],
      "metadata": {
        "id": "EGa8D7oCylYN"
      },
      "execution_count": null,
      "outputs": []
    },
    {
      "cell_type": "code",
      "source": [
        "def load_data(path):\n",
        "  dataframe = pd.read_csv(train_csv_path)\n",
        "  return dataframe\n",
        "\n",
        "def plot_balance(train_data):\n",
        "  \"\"\"\n",
        "  input : training dataset must contain column of \"Label\"\n",
        "  output : Show the number of instances per class in dataset\n",
        "  \"\"\"\n",
        "\n",
        "  grouped = train_data.groupby([\"Label\"]) #Group data by Labels\n",
        "  grouped = grouped.size()\n",
        "\n",
        "  x_axis = grouped.index\n",
        "  y_axis = []\n",
        "  for i in range(grouped.shape[0]):\n",
        "    y_axis.append(grouped.iloc[i])\n",
        "\n",
        "  #plotting graph\n",
        "  plt.figure(figsize=(6,4))\n",
        "  plt.bar(x_axis,y_axis,color=\"r\")\n",
        "  plt.title(\"Balance in class distribution\")\n",
        "  plt.xlabel(\"Class\")\n",
        "  plt.ylabel(\"Number of gestures\")\n",
        "  plt.xticks(rotation = 90)\n",
        "  plt.show\n",
        "\n"
      ],
      "metadata": {
        "id": "tIKDGqfskjWk"
      },
      "execution_count": null,
      "outputs": []
    },
    {
      "cell_type": "code",
      "source": [
        "train_df = load_data(train_csv_path)\n",
        "plot_balance(train_df)"
      ],
      "metadata": {
        "colab": {
          "base_uri": "https://localhost:8080/",
          "height": 597
        },
        "id": "mnb9w0QGoiOQ",
        "outputId": "d82113bc-0f4e-41f2-984d-4e198f24054c"
      },
      "execution_count": null,
      "outputs": [
        {
          "output_type": "display_data",
          "data": {
            "text/plain": [
              "<Figure size 600x400 with 1 Axes>"
            ],
            "image/png": "[encoded data removed]"
          },
          "metadata": {}
        }
      ]
    },
    {
      "cell_type": "code",
      "source": [
        "test_df = pd.read_csv(test_csv_path)\n",
        "plot_balance(test_df)"
      ],
      "metadata": {
        "colab": {
          "base_uri": "https://localhost:8080/",
          "height": 597
        },
        "id": "Co13wcKNpAVk",
        "outputId": "726ed061-65b8-42f4-f75b-11697f6f99c8"
      },
      "execution_count": null,
      "outputs": [
        {
          "output_type": "display_data",
          "data": {
            "text/plain": [
              "<Figure size 600x400 with 1 Axes>"
            ],
            "image/png": "[encoded data removed]"
          },
          "metadata": {}
        }
      ]
    },
    {
      "cell_type": "code",
      "source": [
        "def balance_dataset(dataset):\n",
        "  max_instances_per_label = dataset['Label'].value_counts().min()\n",
        "  balanced_df = pd.DataFrame()\n",
        "\n",
        "  for label in dataset['Label'].unique():\n",
        "      if label != \"Non-gesture\":\n",
        "        label_df = dataset[dataset['Label'] == label]\n",
        "        sampled_label_df = resample(label_df,\n",
        "                                    replace=False,  # Do not allow replacement\n",
        "                                    n_samples=max_instances_per_label,  # Number of samples per label\n",
        "                                    random_state=42)  # For reproducibility\n",
        "      else:\n",
        "        label_df = dataset[dataset['Label'] == label]\n",
        "        sampled_label_df = resample(label_df,\n",
        "                                    replace=False,  # Do not allow replacement\n",
        "                                    n_samples=max_instances_per_label*2,  # Number of samples per label\n",
        "                                    random_state=42)  # For reproducibility\n",
        "      balanced_df = pd.concat([balanced_df, sampled_label_df])\n",
        "\n",
        "  # Shuffle the dataset to mix the labels\n",
        "  balanced_df = balanced_df.sample(frac=1, random_state=42).reset_index(drop=True)\n",
        "  return balanced_df"
      ],
      "metadata": {
        "id": "XTNZVO6CwsN3"
      },
      "execution_count": null,
      "outputs": []
    },
    {
      "cell_type": "code",
      "source": [
        "balanced_train_df = balance_dataset(train_df)\n",
        "plot_balance(balanced_train_df)"
      ],
      "metadata": {
        "colab": {
          "base_uri": "https://localhost:8080/",
          "height": 597
        },
        "id": "Am6Aqorw2BJN",
        "outputId": "af2274ed-c4bb-4075-b7c1-c249a87f3a82"
      },
      "execution_count": null,
      "outputs": [
        {
          "output_type": "display_data",
          "data": {
            "text/plain": [
              "<Figure size 600x400 with 1 Axes>"
            ],
            "image/png": "[encoded data removed]"
          },
          "metadata": {}
        }
      ]
    },
    {
      "cell_type": "code",
      "source": [
        "balanced_test_df =  balance_dataset(test_df)\n",
        "plot_balance(balanced_test_df)"
      ],
      "metadata": {
        "colab": {
          "base_uri": "https://localhost:8080/",
          "height": 597
        },
        "id": "9ZIcqboF2LPQ",
        "outputId": "0158537a-e89b-4e71-919c-54696dfc8db3"
      },
      "execution_count": null,
      "outputs": [
        {
          "output_type": "display_data",
          "data": {
            "text/plain": [
              "<Figure size 600x400 with 1 Axes>"
            ],
            "image/png": "[encoded data removed]"
          },
          "metadata": {}
        }
      ]
    },
    {
      "cell_type": "markdown",
      "source": [
        "## Extract the landmarks from the frame which will represent the temporal feature and Perform the landmark standardization"
      ],
      "metadata": {
        "id": "wVQXO2Fz333z"
      }
    },
    {
      "cell_type": "code",
      "source": [
        "#Visualization of number of frames captured for each gesture\n",
        "def frame_length(dataframe):\n",
        "  frame_length = []\n",
        "  for i in dataframe[\"Frames\"]:\n",
        "      i = eval(i)\n",
        "      frame_length.append(len(i))\n",
        "\n",
        "  length_dict = {}\n",
        "  for length in frame_length:\n",
        "    key = length\n",
        "    if key not in length_dict:\n",
        "        value = frame_length.count(length)\n",
        "        length_dict[key] = value\n",
        "\n",
        "  print(\"Minimum frame length\",min(frame_length ))\n",
        "  print(\"Maximum frame length\",max(frame_length))\n",
        "  print(\"Mean Frame Length \",np.mean(frame_length))\n",
        "\n",
        "  plt.figure(figsize=(15,5))\n",
        "  plt.bar(length_dict.keys() , length_dict.values())\n",
        "  plt.title('Count of frame length')\n",
        "  plt.xlabel('Frame Length')\n",
        "  plt.ylabel('Numbet of gesture')\n",
        "  plt.show()"
      ],
      "metadata": {
        "id": "W2IGWTvMEGB6"
      },
      "execution_count": null,
      "outputs": []
    },
    {
      "cell_type": "code",
      "source": [
        "def Remove_outlier(dataframe):\n",
        "  count = 0\n",
        "  for i in dataframe[\"Frames\"]:\n",
        "      index = dataframe.index[dataframe[\"Frames\"]==i] #index of the frame\n",
        "      i = eval(i)\n",
        "      frame_length = len(i) #Length of the frames\n",
        "      if frame_length >=400 or frame_length<= 20:\n",
        "        count += 1\n",
        "        dataframe.drop(index,inplace=True)\n",
        "\n",
        "  print(\"Removed Instances\",count)\n",
        "  return dataframe\n",
        "\n"
      ],
      "metadata": {
        "id": "H4XsTi5KOfZ7"
      },
      "execution_count": null,
      "outputs": []
    },
    {
      "cell_type": "code",
      "source": [
        "frame_length(balanced_train_df)"
      ],
      "metadata": {
        "colab": {
          "base_uri": "https://localhost:8080/",
          "height": 511
        },
        "id": "R6-2wzYkKLZA",
        "outputId": "8581a3d4-f9ef-4942-fbe4-540481970520"
      },
      "execution_count": null,
      "outputs": [
        {
          "output_type": "stream",
          "name": "stdout",
          "text": [
            "Minimum frame length 9\n",
            "Maximum frame length 922\n",
            "Mean Frame Length  99.38243243243244\n"
          ]
        },
        {
          "output_type": "display_data",
          "data": {
            "text/plain": [
              "<Figure size 1500x500 with 1 Axes>"
            ],
            "image/png": "[encoded data removed]"
          },
          "metadata": {}
        }
      ]
    },
    {
      "cell_type": "code",
      "source": [
        "balanced_new_df = Remove_outlier(balanced_train_df)\n",
        "frame_length(balanced_new_df)"
      ],
      "metadata": {
        "colab": {
          "base_uri": "https://localhost:8080/",
          "height": 576
        },
        "id": "OU1SnV2fQJyu",
        "outputId": "2a345af7-f0b1-4a3c-b864-44f8bd359ae2"
      },
      "execution_count": null,
      "outputs": [
        {
          "output_type": "stream",
          "name": "stdout",
          "text": [
            "Removed Instances 45\n",
            "Minimum frame length 21\n",
            "Maximum frame length 399\n",
            "Mean Frame Length  96.62988505747127\n"
          ]
        },
        {
          "output_type": "display_data",
          "data": {
            "text/plain": [
              "<Figure size 1500x500 with 1 Axes>"
            ],
            "image/png": "[encoded data removed]"
          },
          "metadata": {}
        }
      ]
    },
    {
      "cell_type": "code",
      "source": [
        "balanced_new_df1 = Remove_outlier(balanced_test_df)\n",
        "frame_length(balanced_new_df1)"
      ],
      "metadata": {
        "colab": {
          "base_uri": "https://localhost:8080/",
          "height": 529
        },
        "id": "J-_2OMswSSiO",
        "outputId": "7371a3c3-13c6-4f64-96be-37087a09acf2"
      },
      "execution_count": null,
      "outputs": [
        {
          "output_type": "stream",
          "name": "stdout",
          "text": [
            "Removed Instances 18\n",
            "Minimum frame length 21\n",
            "Maximum frame length 396\n",
            "Mean Frame Length  90.51312335958005\n"
          ]
        },
        {
          "output_type": "display_data",
          "data": {
            "text/plain": [
              "<Figure size 1500x500 with 1 Axes>"
            ],
            "image/png": "[encoded data removed]"
          },
          "metadata": {}
        }
      ]
    },
    {
      "cell_type": "code",
      "source": [
        "def evaluate_path(tck, num_points=100):\n",
        "    u_fine = np.linspace(0, 1, num_points)\n",
        "    x_fine, y_fine, z_fine = splev(u_fine, tck)\n",
        "    return np.array([x_fine, y_fine, z_fine]).T"
      ],
      "metadata": {
        "id": "z2UIPAcyFl26"
      },
      "execution_count": null,
      "outputs": []
    },
    {
      "cell_type": "code",
      "source": [
        "import time"
      ],
      "metadata": {
        "id": "uXcxow-J5QH6"
      },
      "execution_count": null,
      "outputs": []
    },
    {
      "cell_type": "code",
      "source": [
        "def get_flow_vector(dataset):\n",
        "  # Initialize MediaPipe Hands\n",
        "  total_iterations = dataset.shape[0]\n",
        "  #progress_bar = tqdm(total=total_iterations, desc=\"Processing\", unit=\"step\")\n",
        "\n",
        "  mp_hands = mp.solutions.hands\n",
        "  hands = mp_hands.Hands(static_image_mode=True, max_num_hands=2, min_detection_confidence=0.5, min_tracking_confidence=0.5)\n",
        "\n",
        "  pca = PCA(n_components=10)\n",
        "  significant_landmark = [0,1,4,5,8,9,12,13,16,17,20]\n",
        "\n",
        "  # To store flow vectors\n",
        "  flow_vectors = []\n",
        "  flow_vectors_pca = []\n",
        "  flow_vector_significat = []\n",
        "  Labels = []\n",
        "\n",
        "  video_dir = '/content/7/videos/videos'\n",
        "  for index, row in tqdm(dataset.iterrows()):\n",
        "      label = row['Label']\n",
        "      video_id = row['Video_ID']\n",
        "      frame_indices = eval(row['Frames'])\n",
        "\n",
        "      video_path = os.path.join(video_dir, f\"{video_id}.avi\")\n",
        "      if not os.path.exists(video_path):\n",
        "          print(f\"Video file not found: {video_path}\")\n",
        "          continue\n",
        "\n",
        "      cap = cv2.VideoCapture(video_path)\n",
        "      if not cap.isOpened():\n",
        "          print(f\"Error opening video file: {video_path}\")\n",
        "          continue\n",
        "\n",
        "      # To store landmarks for the frames in the current gesture\n",
        "      gesture_landmarks = []\n",
        "\n",
        "      for frame_idx in frame_indices:\n",
        "          cap.set(cv2.CAP_PROP_POS_FRAMES, frame_idx - 1)\n",
        "          ret, frame = cap.read()\n",
        "          if not ret:\n",
        "              print(f\"Error reading frame {frame_idx} from video {video_id}\")\n",
        "              continue\n",
        "\n",
        "          frame_rgb = cv2.cvtColor(frame, cv2.COLOR_BGR2RGB)\n",
        "          results = hands.process(frame_rgb)\n",
        "\n",
        "          if results.multi_hand_landmarks:\n",
        "              # Use the first detected hand\n",
        "              hand_landmarks = results.multi_hand_landmarks[0]\n",
        "              landmarks = [(lm.x, lm.y, lm.z) for lm in hand_landmarks.landmark]\n",
        "              gesture_landmarks.append(landmarks)\n",
        "\n",
        "      cap.release()\n",
        "      gesture_landmarks = np.array(gesture_landmarks)\n",
        "      scaled_landmarks = np.zeros((50,21,3))\n",
        "\n",
        "\n",
        "      if len(gesture_landmarks)<2:\n",
        "        continue\n",
        "\n",
        "      try:\n",
        "        for i in range(20):\n",
        "          # i is the index of landmark\n",
        "          x, y, z = gesture_landmarks[:,i,0], gesture_landmarks[:,i,1],gesture_landmarks[:,i,2]\n",
        "\n",
        "          # Create a spline representation of the path\n",
        "          tck, u = splprep([x, y, z], s=0)\n",
        "          path = evaluate_path(tck, num_points=50)\n",
        "          x_path = path[:,0]\n",
        "          y_path = path[:,1]\n",
        "          z_path = path[:,2]\n",
        "\n",
        "          for j in range(len(path)):\n",
        "            scaled_landmarks[j][i][0] = x_path[j]\n",
        "            scaled_landmarks[j][i][1] = y_path[j]\n",
        "            scaled_landmarks[j][i][2] = z_path[j]\n",
        "\n",
        "\n",
        "        if len(scaled_landmarks) > 1:\n",
        "                # Convert to NumPy array: Shape (T, 21, 3)\n",
        "                scaled_landmarks = np.array(scaled_landmarks)\n",
        "\n",
        "                # Compute temporal differences: Shape (T-1, 21, 3)\n",
        "                temporal_diff = np.diff(scaled_landmarks, axis=0)\n",
        "\n",
        "                # Flatten each frame's differences into a 1D vector: Shape (T-1, 63)\n",
        "                flow_vector = temporal_diff.reshape(temporal_diff.shape[0], -1)\n",
        "                flow_vector_flatten = flow_vector.flatten()\n",
        "                #print(flow_vector_flatten.shape)\n",
        "\n",
        "                # Apply PCA to reduce dimensions\n",
        "                flow_vector_reduced = pca.fit_transform(flow_vector)  # Shape: (T-1, 10)\n",
        "                flow_vector_reduced_flatten =  flow_vector_reduced.flatten()\n",
        "                #print(flow_vector_reduced_flatten.shape)\n",
        "\n",
        "                flow_vector_significant = np.array([])\n",
        "                #Extracting the significant features only\n",
        "                for i in significant_landmark:\n",
        "                  flow_vector_significant = np.concatenate((flow_vector_significant, flow_vector[i]))\n",
        "                flow_vector_significant_flatten = flow_vector_significant.flatten()\n",
        "\n",
        "\n",
        "                # Save the reduced flow vector and label\n",
        "                flow_vectors.append(flow_vector_flatten)\n",
        "                flow_vectors_pca.append(flow_vector_reduced_flatten)\n",
        "                flow_vector_significat.append(flow_vector_significant_flatten)\n",
        "                Labels.append(label)\n",
        "        #time.sleep(0.01)\n",
        "      except:\n",
        "        print(\"Error at idx:\" ,index)\n",
        "        continue\n",
        "      #progress_bar.update(1)\n",
        "      #time.sleep(0.01)\n",
        "\n",
        "  #progress_bar.close()\n",
        "\n",
        "  print(\"Processing complete!\")\n",
        "  hands.close()\n",
        "\n",
        "  return flow_vectors,flow_vectors_pca,flow_vector_significat,Labels\n"
      ],
      "metadata": {
        "id": "4OeMbFVIXH43"
      },
      "execution_count": null,
      "outputs": []
    },
    {
      "cell_type": "code",
      "source": [
        "from google.colab import drive\n",
        "drive.mount('/content/drive',force_remount=True)"
      ],
      "metadata": {
        "colab": {
          "base_uri": "https://localhost:8080/"
        },
        "id": "YceYDfA6zkCM",
        "outputId": "73e69412-4120-45ed-ecef-f29accab9ce2"
      },
      "execution_count": null,
      "outputs": [
        {
          "output_type": "stream",
          "name": "stdout",
          "text": [
            "Mounted at /content/drive\n"
          ]
        }
      ]
    },
    {
      "cell_type": "code",
      "source": [
        "!mkdir -p \"/content/drive/My Drive/My Folder\""
      ],
      "metadata": {
        "id": "AwOsUmVkz-c3"
      },
      "execution_count": null,
      "outputs": []
    },
    {
      "cell_type": "code",
      "source": [
        "balanced_new_df.shape"
      ],
      "metadata": {
        "colab": {
          "base_uri": "https://localhost:8080/"
        },
        "id": "1C46b8FG8wrO",
        "outputId": "3b01fd64-2a6a-4474-ad45-bafb44e22854"
      },
      "execution_count": null,
      "outputs": [
        {
          "output_type": "execute_result",
          "data": {
            "text/plain": [
              "(2175, 3)"
            ]
          },
          "metadata": {},
          "execution_count": 46
        }
      ]
    },
    {
      "cell_type": "code",
      "source": [
        "train_flow_vector,train_flow_vectors_pca,train_flow_vectors_significat,Labels =  get_flow_vector(balanced_new_df)"
      ],
      "metadata": {
        "colab": {
          "base_uri": "https://localhost:8080/"
        },
        "id": "oFPWeQWIGjeB",
        "outputId": "a285b81d-e134-431c-ffbd-db14c40fa80d"
      },
      "execution_count": null,
      "outputs": [
        {
          "output_type": "stream",
          "name": "stderr",
          "text": [
            "43it [04:59,  5.59s/it]"
          ]
        },
        {
          "output_type": "stream",
          "name": "stdout",
          "text": [
            "Error at idx: 44\n"
          ]
        },
        {
          "output_type": "stream",
          "name": "stderr",
          "text": [
            "49it [05:36,  5.40s/it]"
          ]
        },
        {
          "output_type": "stream",
          "name": "stdout",
          "text": [
            "Error at idx: 50\n"
          ]
        },
        {
          "output_type": "stream",
          "name": "stderr",
          "text": [
            "\r50it [05:53,  9.02s/it]"
          ]
        },
        {
          "output_type": "stream",
          "name": "stdout",
          "text": [
            "Error at idx: 51\n"
          ]
        },
        {
          "output_type": "stream",
          "name": "stderr",
          "text": [
            "104it [12:20, 12.69s/it]"
          ]
        },
        {
          "output_type": "stream",
          "name": "stdout",
          "text": [
            "Error at idx: 107\n"
          ]
        },
        {
          "output_type": "stream",
          "name": "stderr",
          "text": [
            "109it [12:47,  5.96s/it]"
          ]
        },
        {
          "output_type": "stream",
          "name": "stdout",
          "text": [
            "Error at idx: 113\n"
          ]
        },
        {
          "output_type": "stream",
          "name": "stderr",
          "text": [
            "180it [21:08,  8.87s/it]"
          ]
        },
        {
          "output_type": "stream",
          "name": "stdout",
          "text": [
            "Error at idx: 188\n"
          ]
        },
        {
          "output_type": "stream",
          "name": "stderr",
          "text": [
            "186it [21:54,  7.69s/it]"
          ]
        },
        {
          "output_type": "stream",
          "name": "stdout",
          "text": [
            "Error at idx: 194\n"
          ]
        },
        {
          "output_type": "stream",
          "name": "stderr",
          "text": [
            "188it [22:15,  8.47s/it]"
          ]
        },
        {
          "output_type": "stream",
          "name": "stdout",
          "text": [
            "Error at idx: 196\n"
          ]
        },
        {
          "output_type": "stream",
          "name": "stderr",
          "text": [
            "218it [27:48,  5.71s/it]"
          ]
        },
        {
          "output_type": "stream",
          "name": "stdout",
          "text": [
            "Error at idx: 226\n"
          ]
        },
        {
          "output_type": "stream",
          "name": "stderr",
          "text": [
            "222it [28:42, 13.20s/it]"
          ]
        },
        {
          "output_type": "stream",
          "name": "stdout",
          "text": [
            "Error at idx: 230\n"
          ]
        },
        {
          "output_type": "stream",
          "name": "stderr",
          "text": [
            "253it [32:09, 10.30s/it]"
          ]
        },
        {
          "output_type": "stream",
          "name": "stdout",
          "text": [
            "Error at idx: 261\n"
          ]
        },
        {
          "output_type": "stream",
          "name": "stderr",
          "text": [
            "262it [33:31,  8.96s/it]"
          ]
        },
        {
          "output_type": "stream",
          "name": "stdout",
          "text": [
            "Error at idx: 271\n"
          ]
        },
        {
          "output_type": "stream",
          "name": "stderr",
          "text": [
            "310it [39:51,  9.07s/it]"
          ]
        },
        {
          "output_type": "stream",
          "name": "stdout",
          "text": [
            "Error at idx: 319\n"
          ]
        },
        {
          "output_type": "stream",
          "name": "stderr",
          "text": [
            "320it [40:33,  3.59s/it]"
          ]
        },
        {
          "output_type": "stream",
          "name": "stdout",
          "text": [
            "Error at idx: 329\n"
          ]
        },
        {
          "output_type": "stream",
          "name": "stderr",
          "text": [
            "324it [40:54,  4.59s/it]"
          ]
        },
        {
          "output_type": "stream",
          "name": "stdout",
          "text": [
            "Error at idx: 333\n"
          ]
        },
        {
          "output_type": "stream",
          "name": "stderr",
          "text": [
            "374it [47:04,  8.02s/it]"
          ]
        },
        {
          "output_type": "stream",
          "name": "stdout",
          "text": [
            "Error at idx: 385\n"
          ]
        },
        {
          "output_type": "stream",
          "name": "stderr",
          "text": [
            "388it [48:43,  9.51s/it]"
          ]
        },
        {
          "output_type": "stream",
          "name": "stdout",
          "text": [
            "Error at idx: 400\n"
          ]
        },
        {
          "output_type": "stream",
          "name": "stderr",
          "text": [
            "408it [50:17,  4.75s/it]"
          ]
        },
        {
          "output_type": "stream",
          "name": "stdout",
          "text": [
            "Error reading frame 3684 from video 4CM11_19_R__19\n"
          ]
        },
        {
          "output_type": "stream",
          "name": "stderr",
          "text": [
            "448it [54:43,  5.90s/it]"
          ]
        },
        {
          "output_type": "stream",
          "name": "stdout",
          "text": [
            "Error at idx: 460\n"
          ]
        },
        {
          "output_type": "stream",
          "name": "stderr",
          "text": [
            "458it [55:35,  4.11s/it]"
          ]
        },
        {
          "output_type": "stream",
          "name": "stdout",
          "text": [
            "Error at idx: 470\n"
          ]
        },
        {
          "output_type": "stream",
          "name": "stderr",
          "text": [
            "485it [58:42,  8.00s/it]"
          ]
        },
        {
          "output_type": "stream",
          "name": "stdout",
          "text": [
            "Error at idx: 498\n"
          ]
        },
        {
          "output_type": "stream",
          "name": "stderr",
          "text": [
            "487it [59:15, 12.77s/it]"
          ]
        },
        {
          "output_type": "stream",
          "name": "stdout",
          "text": [
            "Error at idx: 500\n"
          ]
        },
        {
          "output_type": "stream",
          "name": "stderr",
          "text": [
            "\r488it [59:28, 12.76s/it]"
          ]
        },
        {
          "output_type": "stream",
          "name": "stdout",
          "text": [
            "Error reading frame 15 from video 1CM1_4_R__230\n",
            "Error reading frame 16 from video 1CM1_4_R__230\n",
            "Error reading frame 17 from video 1CM1_4_R__230\n",
            "Error reading frame 18 from video 1CM1_4_R__230\n",
            "Error reading frame 19 from video 1CM1_4_R__230\n",
            "Error reading frame 20 from video 1CM1_4_R__230\n",
            "Error reading frame 21 from video 1CM1_4_R__230\n",
            "Error reading frame 22 from video 1CM1_4_R__230\n",
            "Error reading frame 23 from video 1CM1_4_R__230\n",
            "Error reading frame 24 from video 1CM1_4_R__230\n"
          ]
        },
        {
          "output_type": "stream",
          "name": "stderr",
          "text": [
            "525it [1:03:45,  6.88s/it]"
          ]
        },
        {
          "output_type": "stream",
          "name": "stdout",
          "text": [
            "Error at idx: 542\n"
          ]
        },
        {
          "output_type": "stream",
          "name": "stderr",
          "text": [
            "562it [1:08:02,  7.05s/it]"
          ]
        },
        {
          "output_type": "stream",
          "name": "stdout",
          "text": [
            "Error reading frame 25 from video 1CM1_4_R__229\n",
            "Error reading frame 26 from video 1CM1_4_R__229\n"
          ]
        },
        {
          "output_type": "stream",
          "name": "stderr",
          "text": [
            "574it [1:09:53, 12.92s/it]"
          ]
        },
        {
          "output_type": "stream",
          "name": "stdout",
          "text": [
            "Error at idx: 591\n"
          ]
        },
        {
          "output_type": "stream",
          "name": "stderr",
          "text": [
            "582it [1:10:33,  5.13s/it]"
          ]
        },
        {
          "output_type": "stream",
          "name": "stdout",
          "text": [
            "Error at idx: 600\n"
          ]
        },
        {
          "output_type": "stream",
          "name": "stderr",
          "text": [
            "622it [1:16:03,  4.86s/it]"
          ]
        },
        {
          "output_type": "stream",
          "name": "stdout",
          "text": [
            "Error at idx: 640\n"
          ]
        },
        {
          "output_type": "stream",
          "name": "stderr",
          "text": [
            "627it [1:16:35,  4.72s/it]"
          ]
        },
        {
          "output_type": "stream",
          "name": "stdout",
          "text": [
            "Error at idx: 645\n"
          ]
        },
        {
          "output_type": "stream",
          "name": "stderr",
          "text": [
            "661it [1:20:29, 10.21s/it]"
          ]
        },
        {
          "output_type": "stream",
          "name": "stdout",
          "text": [
            "Error at idx: 679\n"
          ]
        },
        {
          "output_type": "stream",
          "name": "stderr",
          "text": [
            "668it [1:21:11,  5.11s/it]"
          ]
        },
        {
          "output_type": "stream",
          "name": "stdout",
          "text": [
            "Error at idx: 687\n"
          ]
        },
        {
          "output_type": "stream",
          "name": "stderr",
          "text": [
            "672it [1:21:42,  6.27s/it]"
          ]
        },
        {
          "output_type": "stream",
          "name": "stdout",
          "text": [
            "Error at idx: 691\n"
          ]
        },
        {
          "output_type": "stream",
          "name": "stderr",
          "text": [
            "687it [1:23:05,  8.50s/it]"
          ]
        },
        {
          "output_type": "stream",
          "name": "stdout",
          "text": [
            "Error at idx: 708\n"
          ]
        },
        {
          "output_type": "stream",
          "name": "stderr",
          "text": [
            "723it [1:27:27, 10.83s/it]"
          ]
        },
        {
          "output_type": "stream",
          "name": "stdout",
          "text": [
            "Error at idx: 745\n"
          ]
        },
        {
          "output_type": "stream",
          "name": "stderr",
          "text": [
            "\r724it [1:27:31,  8.55s/it]"
          ]
        },
        {
          "output_type": "stream",
          "name": "stdout",
          "text": [
            "Error at idx: 746\n"
          ]
        },
        {
          "output_type": "stream",
          "name": "stderr",
          "text": [
            "730it [1:28:29,  7.20s/it]"
          ]
        },
        {
          "output_type": "stream",
          "name": "stdout",
          "text": [
            "Error at idx: 752\n"
          ]
        },
        {
          "output_type": "stream",
          "name": "stderr",
          "text": [
            "827it [1:40:08,  7.61s/it]"
          ]
        },
        {
          "output_type": "stream",
          "name": "stdout",
          "text": [
            "Error at idx: 850\n"
          ]
        },
        {
          "output_type": "stream",
          "name": "stderr",
          "text": [
            "870it [1:45:13,  8.62s/it]"
          ]
        },
        {
          "output_type": "stream",
          "name": "stdout",
          "text": [
            "Error at idx: 893\n"
          ]
        },
        {
          "output_type": "stream",
          "name": "stderr",
          "text": [
            "920it [1:50:37,  8.76s/it]"
          ]
        },
        {
          "output_type": "stream",
          "name": "stdout",
          "text": [
            "Error at idx: 944\n"
          ]
        },
        {
          "output_type": "stream",
          "name": "stderr",
          "text": [
            "1022it [2:02:06,  5.95s/it]"
          ]
        },
        {
          "output_type": "stream",
          "name": "stdout",
          "text": [
            "Error at idx: 1046\n"
          ]
        },
        {
          "output_type": "stream",
          "name": "stderr",
          "text": [
            "1025it [2:02:27,  7.21s/it]"
          ]
        },
        {
          "output_type": "stream",
          "name": "stdout",
          "text": [
            "Error at idx: 1049\n"
          ]
        },
        {
          "output_type": "stream",
          "name": "stderr",
          "text": [
            "1047it [2:04:36, 10.14s/it]"
          ]
        },
        {
          "output_type": "stream",
          "name": "stdout",
          "text": [
            "Error at idx: 1071\n"
          ]
        },
        {
          "output_type": "stream",
          "name": "stderr",
          "text": [
            "1056it [2:05:34,  8.06s/it]"
          ]
        },
        {
          "output_type": "stream",
          "name": "stdout",
          "text": [
            "Error at idx: 1080\n"
          ]
        },
        {
          "output_type": "stream",
          "name": "stderr",
          "text": [
            "1064it [2:06:21,  6.63s/it]"
          ]
        },
        {
          "output_type": "stream",
          "name": "stdout",
          "text": [
            "Error at idx: 1088\n"
          ]
        },
        {
          "output_type": "stream",
          "name": "stderr",
          "text": [
            "1111it [2:10:56,  9.42s/it]"
          ]
        },
        {
          "output_type": "stream",
          "name": "stdout",
          "text": [
            "Error at idx: 1137\n"
          ]
        },
        {
          "output_type": "stream",
          "name": "stderr",
          "text": [
            "1123it [2:12:42,  7.25s/it]"
          ]
        },
        {
          "output_type": "stream",
          "name": "stdout",
          "text": [
            "Error at idx: 1149\n"
          ]
        },
        {
          "output_type": "stream",
          "name": "stderr",
          "text": [
            "1220it [2:23:39,  3.95s/it]"
          ]
        },
        {
          "output_type": "stream",
          "name": "stdout",
          "text": [
            "Error at idx: 1249\n"
          ]
        },
        {
          "output_type": "stream",
          "name": "stderr",
          "text": [
            "1273it [2:29:18, 10.39s/it]"
          ]
        },
        {
          "output_type": "stream",
          "name": "stdout",
          "text": [
            "Error at idx: 1302\n"
          ]
        },
        {
          "output_type": "stream",
          "name": "stderr",
          "text": [
            "1276it [2:29:35,  7.17s/it]"
          ]
        },
        {
          "output_type": "stream",
          "name": "stdout",
          "text": [
            "Error at idx: 1305\n"
          ]
        },
        {
          "output_type": "stream",
          "name": "stderr",
          "text": [
            "1319it [2:36:39,  6.13s/it]"
          ]
        },
        {
          "output_type": "stream",
          "name": "stdout",
          "text": [
            "Error at idx: 1349\n"
          ]
        },
        {
          "output_type": "stream",
          "name": "stderr",
          "text": [
            "1326it [2:36:57,  3.02s/it]"
          ]
        },
        {
          "output_type": "stream",
          "name": "stdout",
          "text": [
            "Error at idx: 1356\n"
          ]
        },
        {
          "output_type": "stream",
          "name": "stderr",
          "text": [
            "1347it [2:41:29,  9.66s/it]"
          ]
        },
        {
          "output_type": "stream",
          "name": "stdout",
          "text": [
            "Error at idx: 1378\n"
          ]
        },
        {
          "output_type": "stream",
          "name": "stderr",
          "text": [
            "\r1348it [2:41:31,  7.22s/it]"
          ]
        },
        {
          "output_type": "stream",
          "name": "stdout",
          "text": [
            "Error reading frame 4077 from video 1CM42_6_R__161\n"
          ]
        },
        {
          "output_type": "stream",
          "name": "stderr",
          "text": [
            "1381it [2:45:22,  6.41s/it]"
          ]
        },
        {
          "output_type": "stream",
          "name": "stdout",
          "text": [
            "Error at idx: 1412\n"
          ]
        },
        {
          "output_type": "stream",
          "name": "stderr",
          "text": [
            "1400it [2:47:30,  8.27s/it]"
          ]
        },
        {
          "output_type": "stream",
          "name": "stdout",
          "text": [
            "Error at idx: 1431\n"
          ]
        },
        {
          "output_type": "stream",
          "name": "stderr",
          "text": [
            "1418it [2:49:16,  5.59s/it]"
          ]
        },
        {
          "output_type": "stream",
          "name": "stdout",
          "text": [
            "Error at idx: 1451\n"
          ]
        },
        {
          "output_type": "stream",
          "name": "stderr",
          "text": [
            "1456it [2:54:24,  4.33s/it]"
          ]
        },
        {
          "output_type": "stream",
          "name": "stdout",
          "text": [
            "Error at idx: 1489\n"
          ]
        },
        {
          "output_type": "stream",
          "name": "stderr",
          "text": [
            "1534it [3:02:39,  4.06s/it]"
          ]
        },
        {
          "output_type": "stream",
          "name": "stdout",
          "text": [
            "Error at idx: 1569\n"
          ]
        },
        {
          "output_type": "stream",
          "name": "stderr",
          "text": [
            "1548it [3:04:01,  7.87s/it]"
          ]
        },
        {
          "output_type": "stream",
          "name": "stdout",
          "text": [
            "Error at idx: 1583\n"
          ]
        },
        {
          "output_type": "stream",
          "name": "stderr",
          "text": [
            "1595it [3:09:48,  7.79s/it]"
          ]
        },
        {
          "output_type": "stream",
          "name": "stdout",
          "text": [
            "Error at idx: 1630\n"
          ]
        },
        {
          "output_type": "stream",
          "name": "stderr",
          "text": [
            "1634it [3:13:19,  4.30s/it]"
          ]
        },
        {
          "output_type": "stream",
          "name": "stdout",
          "text": [
            "Error at idx: 1669\n"
          ]
        },
        {
          "output_type": "stream",
          "name": "stderr",
          "text": [
            "1699it [3:20:25,  8.10s/it]"
          ]
        },
        {
          "output_type": "stream",
          "name": "stdout",
          "text": [
            "Error at idx: 1736\n"
          ]
        },
        {
          "output_type": "stream",
          "name": "stderr",
          "text": [
            "1721it [3:23:28,  6.91s/it]"
          ]
        },
        {
          "output_type": "stream",
          "name": "stdout",
          "text": [
            "Error at idx: 1758\n"
          ]
        },
        {
          "output_type": "stream",
          "name": "stderr",
          "text": [
            "1730it [3:24:45,  8.88s/it]"
          ]
        },
        {
          "output_type": "stream",
          "name": "stdout",
          "text": [
            "Error at idx: 1767\n"
          ]
        },
        {
          "output_type": "stream",
          "name": "stderr",
          "text": [
            "1767it [3:29:09,  8.35s/it]"
          ]
        },
        {
          "output_type": "stream",
          "name": "stdout",
          "text": [
            "Error at idx: 1805\n"
          ]
        },
        {
          "output_type": "stream",
          "name": "stderr",
          "text": [
            "1776it [3:29:53,  5.06s/it]"
          ]
        },
        {
          "output_type": "stream",
          "name": "stdout",
          "text": [
            "Error reading frame 21 from video 1CM1_4_R__232\n",
            "Error reading frame 22 from video 1CM1_4_R__232\n",
            "Error reading frame 23 from video 1CM1_4_R__232\n",
            "Error reading frame 24 from video 1CM1_4_R__232\n",
            "Error reading frame 25 from video 1CM1_4_R__232\n",
            "Error reading frame 26 from video 1CM1_4_R__232\n"
          ]
        },
        {
          "output_type": "stream",
          "name": "stderr",
          "text": [
            "1797it [3:33:02, 14.49s/it]"
          ]
        },
        {
          "output_type": "stream",
          "name": "stdout",
          "text": [
            "Error at idx: 1838\n"
          ]
        },
        {
          "output_type": "stream",
          "name": "stderr",
          "text": [
            "1821it [3:35:57,  7.72s/it]"
          ]
        },
        {
          "output_type": "stream",
          "name": "stdout",
          "text": [
            "Error at idx: 1862\n"
          ]
        },
        {
          "output_type": "stream",
          "name": "stderr",
          "text": [
            "1908it [3:47:17,  7.32s/it]"
          ]
        },
        {
          "output_type": "stream",
          "name": "stdout",
          "text": [
            "Error at idx: 1950\n"
          ]
        },
        {
          "output_type": "stream",
          "name": "stderr",
          "text": [
            "1956it [3:54:15,  9.20s/it]"
          ]
        },
        {
          "output_type": "stream",
          "name": "stdout",
          "text": [
            "Error at idx: 1998\n"
          ]
        },
        {
          "output_type": "stream",
          "name": "stderr",
          "text": [
            "1962it [3:54:49,  8.34s/it]"
          ]
        },
        {
          "output_type": "stream",
          "name": "stdout",
          "text": [
            "Error at idx: 2004\n"
          ]
        },
        {
          "output_type": "stream",
          "name": "stderr",
          "text": [
            "1972it [3:55:33,  4.71s/it]"
          ]
        },
        {
          "output_type": "stream",
          "name": "stdout",
          "text": [
            "Error at idx: 2014\n"
          ]
        },
        {
          "output_type": "stream",
          "name": "stderr",
          "text": [
            "2000it [3:58:51,  8.06s/it]"
          ]
        },
        {
          "output_type": "stream",
          "name": "stdout",
          "text": [
            "Error at idx: 2042\n"
          ]
        },
        {
          "output_type": "stream",
          "name": "stderr",
          "text": [
            "2065it [4:04:49,  4.72s/it]"
          ]
        },
        {
          "output_type": "stream",
          "name": "stdout",
          "text": [
            "Error at idx: 2108\n"
          ]
        },
        {
          "output_type": "stream",
          "name": "stderr",
          "text": [
            "2069it [4:05:35, 11.21s/it]"
          ]
        },
        {
          "output_type": "stream",
          "name": "stdout",
          "text": [
            "Error at idx: 2112\n"
          ]
        },
        {
          "output_type": "stream",
          "name": "stderr",
          "text": [
            "2112it [4:12:15, 20.45s/it]"
          ]
        },
        {
          "output_type": "stream",
          "name": "stdout",
          "text": [
            "Error at idx: 2155\n"
          ]
        },
        {
          "output_type": "stream",
          "name": "stderr",
          "text": [
            "2125it [4:13:55,  9.19s/it]"
          ]
        },
        {
          "output_type": "stream",
          "name": "stdout",
          "text": [
            "Error at idx: 2168\n"
          ]
        },
        {
          "output_type": "stream",
          "name": "stderr",
          "text": [
            "2140it [4:15:28,  3.58s/it]"
          ]
        },
        {
          "output_type": "stream",
          "name": "stdout",
          "text": [
            "Error at idx: 2183\n"
          ]
        },
        {
          "output_type": "stream",
          "name": "stderr",
          "text": [
            "2145it [4:15:53,  5.02s/it]"
          ]
        },
        {
          "output_type": "stream",
          "name": "stdout",
          "text": [
            "Error at idx: 2188\n"
          ]
        },
        {
          "output_type": "stream",
          "name": "stderr",
          "text": [
            "2150it [4:16:47,  9.88s/it]"
          ]
        },
        {
          "output_type": "stream",
          "name": "stdout",
          "text": [
            "Error reading frame 15 from video 1CM1_4_R__231\n",
            "Error reading frame 16 from video 1CM1_4_R__231\n",
            "Error reading frame 17 from video 1CM1_4_R__231\n",
            "Error reading frame 18 from video 1CM1_4_R__231\n",
            "Error reading frame 19 from video 1CM1_4_R__231\n",
            "Error reading frame 20 from video 1CM1_4_R__231\n",
            "Error reading frame 21 from video 1CM1_4_R__231\n",
            "Error reading frame 22 from video 1CM1_4_R__231\n"
          ]
        },
        {
          "output_type": "stream",
          "name": "stderr",
          "text": [
            "2168it [4:18:56,  4.05s/it]"
          ]
        },
        {
          "output_type": "stream",
          "name": "stdout",
          "text": [
            "Error at idx: 2212\n"
          ]
        },
        {
          "output_type": "stream",
          "name": "stderr",
          "text": [
            "2175it [4:20:01,  7.17s/it]\n"
          ]
        },
        {
          "output_type": "stream",
          "name": "stdout",
          "text": [
            "Processing complete!\n"
          ]
        }
      ]
    },
    {
      "cell_type": "code",
      "source": [
        "df = pd.DataFrame(train_flow_vector)\n",
        "#df.to_csv(\"/content/train_flow_vector.csv\")\n",
        "\n",
        "label_df = pd.read_csv(\"/Labels.csv\")\n",
        "#label_df.to_csv(\"/content/Labels.csv\")"
      ],
      "metadata": {
        "id": "rbk4tLqB8MGD"
      },
      "execution_count": null,
      "outputs": []
    },
    {
      "cell_type": "code",
      "source": [
        "test_flow_vector,test_flow_vectors_pca,test_flow_vectors_significat,Labels =  get_flow_vector(balanced_new_df1)"
      ],
      "metadata": {
        "colab": {
          "base_uri": "https://localhost:8080/"
        },
        "id": "24N69rqGSJYI",
        "outputId": "852df673-4a75-491f-d7bf-6808463460b8"
      },
      "execution_count": null,
      "outputs": [
        {
          "output_type": "stream",
          "name": "stderr",
          "text": [
            "38it [03:20,  8.28s/it]"
          ]
        },
        {
          "output_type": "stream",
          "name": "stdout",
          "text": [
            "Error at idx: 38\n"
          ]
        },
        {
          "output_type": "stream",
          "name": "stderr",
          "text": [
            "51it [04:39,  4.26s/it]"
          ]
        },
        {
          "output_type": "stream",
          "name": "stdout",
          "text": [
            "Error at idx: 52\n"
          ]
        },
        {
          "output_type": "stream",
          "name": "stderr",
          "text": [
            "53it [05:06,  9.99s/it]"
          ]
        },
        {
          "output_type": "stream",
          "name": "stdout",
          "text": [
            "Error at idx: 54\n"
          ]
        },
        {
          "output_type": "stream",
          "name": "stderr",
          "text": [
            "115it [11:15,  4.38s/it]"
          ]
        },
        {
          "output_type": "stream",
          "name": "stdout",
          "text": [
            "Error at idx: 119\n"
          ]
        },
        {
          "output_type": "stream",
          "name": "stderr",
          "text": [
            "247it [29:25,  9.59s/it]"
          ]
        },
        {
          "output_type": "stream",
          "name": "stdout",
          "text": [
            "Error at idx: 253\n"
          ]
        },
        {
          "output_type": "stream",
          "name": "stderr",
          "text": [
            "307it [37:17,  7.39s/it]"
          ]
        },
        {
          "output_type": "stream",
          "name": "stdout",
          "text": [
            "Error at idx: 315\n"
          ]
        },
        {
          "output_type": "stream",
          "name": "stderr",
          "text": [
            "345it [42:14,  6.99s/it]"
          ]
        },
        {
          "output_type": "stream",
          "name": "stdout",
          "text": [
            "Error at idx: 353\n"
          ]
        },
        {
          "output_type": "stream",
          "name": "stderr",
          "text": [
            "372it [44:54,  4.36s/it]"
          ]
        },
        {
          "output_type": "stream",
          "name": "stdout",
          "text": [
            "Error at idx: 380\n"
          ]
        },
        {
          "output_type": "stream",
          "name": "stderr",
          "text": [
            "483it [57:42,  6.06s/it]"
          ]
        },
        {
          "output_type": "stream",
          "name": "stdout",
          "text": [
            "Error at idx: 494\n"
          ]
        },
        {
          "output_type": "stream",
          "name": "stderr",
          "text": [
            "518it [1:01:22,  6.08s/it]"
          ]
        },
        {
          "output_type": "stream",
          "name": "stdout",
          "text": [
            "Error at idx: 529\n"
          ]
        },
        {
          "output_type": "stream",
          "name": "stderr",
          "text": [
            "659it [1:15:52,  5.56s/it]"
          ]
        },
        {
          "output_type": "stream",
          "name": "stdout",
          "text": [
            "Error at idx: 672\n"
          ]
        },
        {
          "output_type": "stream",
          "name": "stderr",
          "text": [
            "731it [1:23:20,  4.45s/it]"
          ]
        },
        {
          "output_type": "stream",
          "name": "stdout",
          "text": [
            "Error at idx: 745\n"
          ]
        },
        {
          "output_type": "stream",
          "name": "stderr",
          "text": [
            "762it [1:26:53,  6.84s/it]"
          ]
        },
        {
          "output_type": "stream",
          "name": "stdout",
          "text": [
            "Processing complete!\n"
          ]
        },
        {
          "output_type": "stream",
          "name": "stderr",
          "text": [
            "\n"
          ]
        }
      ]
    },
    {
      "cell_type": "code",
      "source": [
        "df3 = pd.DataFrame(test_flow_vector)\n",
        "df3.to_csv(\"/content/test_flow_vector.csv\")\n",
        "\n",
        "label_df1 = pd.DataFrame(Labels)\n",
        "label_df1.to_csv(\"/content/Labels.csv\")"
      ],
      "metadata": {
        "id": "Xvs1wfgmYilP"
      },
      "execution_count": null,
      "outputs": []
    }
  ]
}